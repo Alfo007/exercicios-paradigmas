{
  "cells": [
    {
      "cell_type": "markdown",
      "metadata": {
        "id": "ljpaJXsKJDAZ"
      },
      "source": [
        "Faça um programa que solicite o preço de uma mercadoria e o percentual de desconto. Exiba o valor do desconto e o preço a pagar.\n",
        "\n",
        "Resposta:"
      ]
    },
    {
      "cell_type": "code",
      "execution_count": null,
      "metadata": {
        "id": "vAM9YyN4Iptm"
      },
      "outputs": [],
      "source": [
        "##############################################################################\n",
        "# Parte do livro Introdução à Programação com Python\n",
        "# Autor: Nilo Ney Coutinho Menezes\n",
        "# Editora Novatec (c) 2010-2022\n",
        "# Primeira edição - Novembro/2010 - ISBN 978-85-7522-250-8\n",
        "# Segunda edição - Junho/2014 - ISBN 978-85-7522-408-3\n",
        "# Terceira Edição - Janeiro/2019 - ISBN 978-85-7522-718-3\n",
        "#\n",
        "# Site: https://python.nilo.pro.br/\n",
        "#\n",
        "# Arquivo: exercicios3\\capitulo 03\\exercicio-03-11.py\n",
        "##############################################################################\n",
        "\n",
        "preço = float(input(\"Digite o preço da mercadoria:\"))\n",
        "desconto = float(input(\"Digite o percentual de desconto:\"))\n",
        "valor_do_desconto = preço * desconto / 100\n",
        "a_pagar = preço - valor_do_desconto\n",
        "print(\"Um desconto de %5.2f %% em uma mercadoria de R$ %7.2f\" % (desconto, preço))\n",
        "print(\"vale R$ %7.2f.\" % valor_do_desconto)\n",
        "print(\"O valor a pagar é de R$ %7.2f\" % a_pagar)\n"
      ]
    },
    {
      "cell_type": "markdown",
      "metadata": {
        "id": "zWyxweVBJIn5"
      },
      "source": [
        "Escreva um programa para calcular a redução do tempo de vida de um fumante. Pergunte a quantidade de cigarros fumados por dia e quantos anos ele já fumou. Considere que um fumante perde 10 minutos de vida a cada cigarro, e calcule quantos dias de vida um fumante perderá. Exiba o total em dias.\n",
        "\n",
        "Resposta:"
      ]
    },
    {
      "cell_type": "code",
      "execution_count": null,
      "metadata": {
        "id": "_aZE9_j0Iv9J"
      },
      "outputs": [],
      "source": [
        "# Parte do livro Introdução à Programação com Python\n",
        "# Autor: Nilo Ney Coutinho Menezes\n",
        "# Editora Novatec (c) 2010-2022\n",
        "# Primeira edição - Novembro/2010 - ISBN 978-85-7522-250-8\n",
        "# Segunda edição - Junho/2014 - ISBN 978-85-7522-408-3\n",
        "# Terceira Edição - Janeiro/2019 - ISBN 978-85-7522-718-3\n",
        "#\n",
        "# Site: https://python.nilo.pro.br/\n",
        "\n",
        "##############################################################################\n",
        "\n",
        "cigarros_por_dia = int(input(\"Quantidade de cigarros por dia:\"))\n",
        "anos_fumando = float(input(\"Quantidade de anos fumando:\"))\n",
        "redução_em_minutos = anos_fumando * 365 * cigarros_por_dia * 10\n",
        "\n",
        "# Um dia tem 24 x 60 minutos\n",
        "redução_em_dias = redução_em_minutos / (24 * 60)\n",
        "print(\"Redução do tempo de vida %8.2f dias.\" % redução_em_dias)"
      ]
    },
    {
      "cell_type": "markdown",
      "metadata": {
        "id": "NiUUJY_4JtA5"
      },
      "source": [
        "Escreva um programa que pergunte o salário do funcionário e calcule o valor do aumento. Para salários superiores a R$ 1.250,00, calcule um aumento de 10%. Para os inferiores ou iguais, de 15%.\n",
        "\n",
        "Resposta:"
      ]
    },
    {
      "cell_type": "code",
      "execution_count": null,
      "metadata": {
        "id": "-sD76LP1JQHa"
      },
      "outputs": [],
      "source": [
        "# Parte do livro Introdução à Programação com Python\n",
        "# Autor: Nilo Ney Coutinho Menezes\n",
        "# Editora Novatec (c) 2010-2022\n",
        "# Primeira edição - Novembro/2010 - ISBN 978-85-7522-250-8\n",
        "# Segunda edição - Junho/2014 - ISBN 978-85-7522-408-3\n",
        "# Terceira Edição - Janeiro/2019 - ISBN 978-85-7522-718-3\n",
        "#\n",
        "# Site: https://python.nilo.pro.br/\n",
        "\n",
        "##############################################################################\n",
        "\n",
        "salário = float(input(\"Digite seu salário: \"))\n",
        "pc_aumento = 0.15\n",
        "if salário > 1250:\n",
        "    pc_aumento = 0.10\n",
        "aumento = salário * pc_aumento\n",
        "print(f\"Seu aumento será de: R$ {aumento:7.2f}\")\n",
        "print(f\"o percentual de aumento foi: {pc_aumento:7.2f}\")"
      ]
    },
    {
      "cell_type": "markdown",
      "metadata": {
        "id": "wC8PKh7rLQCh"
      },
      "source": []
    },
    {
      "cell_type": "code",
      "execution_count": null,
      "metadata": {
        "id": "ivuYrdqTJwr5"
      },
      "outputs": [],
      "source": [
        "\n",
        "# Parte do livro Introdução à Programação com Python\n",
        "# Autor: Nilo Ney Coutinho Menezes\n",
        "# Editora Novatec (c) 2010-2022\n",
        "# Primeira edição - Novembro/2010 - ISBN 978-85-7522-250-8\n",
        "# Segunda edição - Junho/2014 - ISBN 978-85-7522-408-3\n",
        "# Terceira Edição - Janeiro/2019 - ISBN 978-85-7522-718-3\n",
        "#\n",
        "# Site: https://python.nilo.pro.br/\n",
        "\n",
        "##############################################################################\n",
        "\n",
        "consumo = int(input(\"Consumo em kWh: \"))\n",
        "tipo = input(\"Tipo da instalação (R, C ou I): \")\n",
        "if tipo == \"R\":\n",
        "    if consumo <= 500:\n",
        "        preço = 0.40\n",
        "    else:\n",
        "        preço = 0.65\n",
        "elif tipo == \"I\":\n",
        "    if consumo <= 5000:\n",
        "        preço = 0.55\n",
        "    else:\n",
        "        preço = 0.60\n",
        "elif tipo == \"C\":\n",
        "    if consumo <= 1000:\n",
        "        preço = 0.55\n",
        "    else:\n",
        "        preço = 0.60\n",
        "else:\n",
        "    preço = 0\n",
        "    print(\"Erro ! Tipo de instalação desconhecido!\")\n",
        "custo = consumo * preço\n",
        "print(f\"Valor a pagar: R$ {custo:7.2f}\")"
      ]
    },
    {
      "cell_type": "markdown",
      "metadata": {
        "id": "7v0WIODaRsBc"
      },
      "source": [
        "Escreva um programa que compare duas listas. Utilizando operações com conjuntos, imprima:\n",
        "• os valores comuns às duas listas\n",
        "• os valores que só existem na primeira\n",
        "• os valores que existem apenas na segunda\n",
        "• uma lista com os elementos não repetidos das duas listas.\n",
        "• a primeira lista sem os elementos repetidos na segunda\n",
        "\n",
        "Resposta:"
      ]
    },
    {
      "cell_type": "code",
      "execution_count": null,
      "metadata": {
        "colab": {
          "base_uri": "https://localhost:8080/"
        },
        "id": "MqH1_u6OLova",
        "outputId": "ed6340b8-fab0-4887-c831-4f06eec2312c"
      },
      "outputs": [
        {
          "name": "stdout",
          "output_type": "stream",
          "text": [
            "Lista 1: [1, 2, 6, 8]\n",
            "Lista 2: [3, 6, 8, 9]\n",
            "Valores comuns às duas listas: {8, 6}\n",
            "Valores que só existem na primeira: {1, 2}\n",
            "Valores que só existem na segunda: {9, 3}\n",
            "Elementos não repetidos nas duas listas: {1, 2, 3, 9}\n",
            "Primeira lista, sem os elementos repetidos na segunda: {1, 2}\n"
          ]
        }
      ],
      "source": [
        "# Parte do livro Introdução à Programação com Python\n",
        "# Autor: Nilo Ney Coutinho Menezes\n",
        "# Editora Novatec (c) 2010-2022\n",
        "# Primeira edição - Novembro/2010 - ISBN 978-85-7522-250-8\n",
        "# Segunda edição - Junho/2014 - ISBN 978-85-7522-408-3\n",
        "# Terceira Edição - Janeiro/2019 - ISBN 978-85-7522-718-3\n",
        "#\n",
        "# Site: https://python.nilo.pro.br/\n",
        "\n",
        "##############################################################################\n",
        "\n",
        "L1 = [1, 2, 6, 8]\n",
        "L2 = [3, 6, 8, 9]\n",
        "\n",
        "print(f\"Lista 1: {L1}\")\n",
        "print(f\"Lista 2: {L2}\")\n",
        "\n",
        "conjunto_1 = set(L1)\n",
        "conjunto_2 = set(L2)\n",
        "\n",
        "# Conjuntos suportam o operador & para realizar a interseção, ou seja,\n",
        "# A & B resulta no conjunto de elementos presentes em A e B\n",
        "print(\"Valores comuns às duas listas:\", conjunto_1 & conjunto_2)\n",
        "print(\"Valores que só existem na primeira:\", conjunto_1 - conjunto_2)\n",
        "print(\"Valores que só existem na segunda:\", conjunto_2 - conjunto_1)\n",
        "\n",
        "# Conjuntos suportam o operador ^ que realiza a subtração simétrica.\n",
        "# A ^ B resulta nos elementos de A não presentes em B unidos\n",
        "# com os elementos de B não presentes em A\n",
        "# A ^ B = A - B | B - A\n",
        "print(\"Elementos não repetidos nas duas listas:\", conjunto_1 ^ conjunto_2)\n",
        "\n",
        "# Repetido:\n",
        "print(\"Primeira lista, sem os elementos repetidos na segunda:\",\n",
        "      conjunto_1 - conjunto_2)"
      ]
    },
    {
      "cell_type": "markdown",
      "metadata": {
        "id": "FpxcvLjSSAYT"
      },
      "source": [
        "Altere o programa anterior de forma a perguntar também o valor depositado mensalmente. Esse valor será depositado no início de cada mês, e você deve considerá-lo para o cálculo de juros do mês seguinte.\n",
        "\n",
        "Resposta:"
      ]
    },
    {
      "cell_type": "code",
      "execution_count": null,
      "metadata": {
        "colab": {
          "base_uri": "https://localhost:8080/"
        },
        "id": "jEGu2rAORyKM",
        "outputId": "1f57c00a-7bf0-4bc7-edad-2eb2172225f6"
      },
      "outputs": [
        {
          "name": "stdout",
          "output_type": "stream",
          "text": [
            "Depósito inicial: 1500\n",
            "Taxa de juros (Ex.: 3 para 3%): 5\n",
            "Depósito mensal: 100\n",
            "Saldo do mês 1 é de R$1675.00.\n",
            "Saldo do mês 2 é de R$1858.75.\n",
            "Saldo do mês 3 é de R$2051.69.\n",
            "Saldo do mês 4 é de R$2254.27.\n",
            "Saldo do mês 5 é de R$2466.99.\n",
            "Saldo do mês 6 é de R$2690.33.\n",
            "Saldo do mês 7 é de R$2924.85.\n",
            "Saldo do mês 8 é de R$3171.09.\n",
            "Saldo do mês 9 é de R$3429.65.\n",
            "Saldo do mês 10 é de R$3701.13.\n",
            "Saldo do mês 11 é de R$3986.19.\n",
            "Saldo do mês 12 é de R$4285.50.\n",
            "Saldo do mês 13 é de R$4599.77.\n",
            "Saldo do mês 14 é de R$4929.76.\n",
            "Saldo do mês 15 é de R$5276.25.\n",
            "Saldo do mês 16 é de R$5640.06.\n",
            "Saldo do mês 17 é de R$6022.06.\n",
            "Saldo do mês 18 é de R$6423.17.\n",
            "Saldo do mês 19 é de R$6844.33.\n",
            "Saldo do mês 20 é de R$7286.54.\n",
            "Saldo do mês 21 é de R$7750.87.\n",
            "Saldo do mês 22 é de R$8238.41.\n",
            "Saldo do mês 23 é de R$8750.33.\n",
            "Saldo do mês 24 é de R$9287.85.\n",
            "O ganho obtido com os juros foi de R$ 7787.85.\n"
          ]
        }
      ],
      "source": [
        "# Parte do livro Introdução à Programação com Python\n",
        "# Autor: Nilo Ney Coutinho Menezes\n",
        "# Editora Novatec (c) 2010-2022\n",
        "# Primeira edição - Novembro/2010 - ISBN 978-85-7522-250-8\n",
        "# Segunda edição - Junho/2014 - ISBN 978-85-7522-408-3\n",
        "# Terceira Edição - Janeiro/2019 - ISBN 978-85-7522-718-3\n",
        "#\n",
        "# Site: https://python.nilo.pro.br/\n",
        "\n",
        "##############################################################################\n",
        "\n",
        "depósito = float(input(\"Depósito inicial: \"))\n",
        "taxa = float(input(\"Taxa de juros (Ex.: 3 para 3%): \"))\n",
        "investimento = float(input(\"Depósito mensal: \"))\n",
        "mês = 1\n",
        "saldo = depósito\n",
        "while mês <= 24:\n",
        "    saldo = saldo + (saldo * (taxa / 100)) + investimento\n",
        "    print(f\"Saldo do mês {mês} é de R${saldo:5.2f}.\")\n",
        "    mês = mês + 1\n",
        "print(f\"O ganho obtido com os juros foi de R${saldo-depósito:8.2f}.\")\n"
      ]
    },
    {
      "cell_type": "markdown",
      "metadata": {
        "id": "vpLKyd2uUJiF"
      },
      "source": [
        "Escreva um programa para controlar uma pequena máquina registradora. Você deve solicitar ao usuário que digite o código do produto e a quantidade comprada. Utilize a tabela de códigos a seguir para obter o preço de cada produto:\n",
        "\n",
        "Código Preço\n",
        "1      0,50\n",
        "2      1,00\n",
        "3      4,00\n",
        "5      7,00\n",
        "9      8,00\n",
        "Seu programa deve exibir o total das compras depois que o usuário digitar 0.\n",
        "Qualquer outro código deve gerar a mensagem de erro “Código inválido”.\n",
        "\n",
        "Resposta:"
      ]
    },
    {
      "cell_type": "code",
      "execution_count": null,
      "metadata": {
        "colab": {
          "base_uri": "https://localhost:8080/"
        },
        "id": "b4WBe5x_SDrr",
        "outputId": "ee20e841-58f8-4e6d-c6d0-4700a0a0e58c"
      },
      "outputs": [],
      "source": [
        "# Parte do livro Introdução à Programação com Python\n",
        "# Autor: Nilo Ney Coutinho Menezes\n",
        "# Editora Novatec (c) 2010-2022\n",
        "# Primeira edição - Novembro/2010 - ISBN 978-85-7522-250-8\n",
        "# Segunda edição - Junho/2014 - ISBN 978-85-7522-408-3\n",
        "# Terceira Edição - Janeiro/2019 - ISBN 978-85-7522-718-3\n",
        "#\n",
        "# Site: https://python.nilo.pro.br/\n",
        "\n",
        "##############################################################################\n",
        "\n",
        "apagar = 0\n",
        "while True:\n",
        "    código = int(input(\"Código da mercadoria (0 para sair): \"))\n",
        "    preço = 0\n",
        "    if código == 0:\n",
        "        break\n",
        "    elif código == 1:\n",
        "        preço = 0.50\n",
        "    elif código == 2:\n",
        "        preço = 1.00\n",
        "    elif código == 3:\n",
        "        preço = 4.00\n",
        "    elif código == 5:\n",
        "        preço = 7.00\n",
        "    elif código == 9:\n",
        "        preço = 8.00\n",
        "    else:\n",
        "        print(\"Código inválido!\")\n",
        "    if preço != 0:\n",
        "        quantidade = int(input(\"Quantidade: \"))\n",
        "        apagar = apagar + (preço * quantidade)\n",
        "print(f\"Total a pagar R${apagar:8.2f}\")"
      ]
    }
  ],
  "metadata": {
    "colab": {
      "provenance": []
    },
    "kernelspec": {
      "display_name": "Python 3",
      "name": "python3"
    },
    "language_info": {
      "name": "python"
    }
  },
  "nbformat": 4,
  "nbformat_minor": 0
}
