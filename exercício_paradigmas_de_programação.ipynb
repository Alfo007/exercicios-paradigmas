{
  "nbformat": 4,
  "nbformat_minor": 0,
  "metadata": {
    "colab": {
      "provenance": [],
      "authorship_tag": "ABX9TyPNCaAg1qvegQHf35cU0bxK",
      "include_colab_link": true
    },
    "kernelspec": {
      "name": "python3",
      "display_name": "Python 3"
    },
    "language_info": {
      "name": "python"
    }
  },
  "cells": [
    {
      "cell_type": "markdown",
      "metadata": {
        "id": "view-in-github",
        "colab_type": "text"
      },
      "source": [
        "<a href=\"https://colab.research.google.com/github/Alfo007/exercicios-paradigmas/blob/main/exerc%C3%ADcio_paradigmas_de_programa%C3%A7%C3%A3o.ipynb\" target=\"_parent\"><img src=\"https://colab.research.google.com/assets/colab-badge.svg\" alt=\"Open In Colab\"/></a>"
      ]
    },
    {
      "cell_type": "markdown",
      "source": [
        "programa 01 - objetivo: fazer a Leitura de duas Notas e calcular sua media"
      ],
      "metadata": {
        "id": "Xo9tz6YnM_y7"
      }
    },
    {
      "cell_type": "code",
      "source": [
        "\n",
        "nota1 = float(input(\"Informe a Nota 1: \"))\n",
        "nota2 = float(input(\"Informe a Nota 2: \"))\n",
        "Med = (nota1 + nota2)/2\n",
        "print(\"A média final é: \")\n",
        "print(Med)"
      ],
      "metadata": {
        "colab": {
          "base_uri": "https://localhost:8080/"
        },
        "id": "7Lkg71onNLz4",
        "outputId": "b0229571-f87c-4968-b246-678482d4d4c8"
      },
      "execution_count": null,
      "outputs": [
        {
          "output_type": "stream",
          "name": "stdout",
          "text": [
            "Informe a Nota 18\n",
            "Informe a Nota 27\n",
            "A média final é: \n",
            "7.5\n"
          ]
        }
      ]
    },
    {
      "cell_type": "code",
      "source": [
        "def calculaMedia():\n",
        "  nota1 = float(input(\"Digite a primeira nota: \"))\n",
        "  nota2 = float(input(\"Digite a segunda nota: \"))\n",
        "\n",
        "  media = (nota1 + nota2)/2\n",
        "\n",
        "  print(\"A media é igual: \", media)\n",
        "\n",
        "calculaMedia()\n"
      ],
      "metadata": {
        "id": "fi_ZHJlAN8M3"
      },
      "execution_count": null,
      "outputs": []
    },
    {
      "cell_type": "code",
      "source": [
        "def CalculaDesconto():\n",
        "  preco = float(input(\"Digite o preço da mercadoria: \"))\n",
        "  desconto = float(input(\"Digite a porcentagem do desconto:\"))\n",
        "\n",
        "  descontoFinal = float(preco * desconto/100)\n",
        "  print(\"O valor do desconto é: \", descontoFinal)\n",
        "\n",
        "  ValorFinal = float(preco - descontoFinal)\n",
        "  print(\"O valor final da mercadoria é de: \", ValorFinal)\n",
        "\n",
        "CalculaDesconto()"
      ],
      "metadata": {
        "id": "UwmXNQuNPhSI"
      },
      "execution_count": null,
      "outputs": []
    },
    {
      "cell_type": "code",
      "source": [
        "def calculaFumante():\n",
        "    cigarros_por_dia = float(input(\"Digite quantos cigarros você fuma por dia: \"))\n",
        "    anos = float(input(\"Há quantos anos você fuma? \"))\n",
        "\n",
        "    cigarros_por_dia_vida = cigarros_por_dia * 0.00694444\n",
        "    anos_fumados = cigarros_por_dia_vida * 365 * anos\n",
        "\n",
        "    print(f\"Você perdeu {anos_fumados:.0f} dias de vida\")\n",
        "\n",
        "calculaFumante()\n"
      ],
      "metadata": {
        "id": "c7bo2TO7U7aT"
      },
      "execution_count": null,
      "outputs": []
    },
    {
      "cell_type": "markdown",
      "source": [
        "Exercícios de programação estruturada (PY) 24/08/2023"
      ],
      "metadata": {
        "id": "Wnj8cjSiXZWs"
      }
    },
    {
      "cell_type": "markdown",
      "source": [
        "Escreva um programa para controlar uma pequena uma pequena máquina registradora. Você deve solicitar ao usuário que digite o código do produto e a quantidade comprada. Utilize a tabela de códigos a seguir para obter o preço de cada produto:\n",
        "Código preço: 1 0,50 2 1,00 3 4,00 4 7,00 9 8,00 Seu programa deve exibir o total das compras depois que o usuário digitar 0. Qualquer outro código deve gerar a mensagem de erro \"Código inválido\"."
      ],
      "metadata": {
        "id": "FWzM-ZtRX4Yl"
      }
    },
    {
      "cell_type": "code",
      "source": [
        "total_a_pagar = 0\n",
        "\n",
        "while True:\n",
        "    lista = []\n",
        "    escolha = input('Escolha o código de um produto na lista (1 - R$0,50 | 2 - R$1,00 | 3 - R$4,00 | 5 - R$7,00 | 9 - R$8,00): ').lower()\n",
        "    precos = {'1': 0.5, '2': 1.0, '3': 4.0, '5': 7.0, '9': 8.0}\n",
        "\n",
        "    if escolha in precos:\n",
        "        quantidade = int(input(\"Quantidade: \"))\n",
        "        lista.append(precos[escolha])\n",
        "        total_a_pagar += precos[escolha] * quantidade\n",
        "\n",
        "    else:\n",
        "        print('Código inválido, digite o código corretamente')\n",
        "\n",
        "    continuar = input('Deseja adicionar mais produtos? (s/n): ').lower()\n",
        "    if continuar != 's':\n",
        "        break\n",
        "\n",
        "print(f'Total a pagar: R${total_a_pagar:.2f}')"
      ],
      "metadata": {
        "id": "nIsFqVxOcFAI"
      },
      "execution_count": null,
      "outputs": []
    },
    {
      "cell_type": "code",
      "source": [
        "'''Lê um vetor de 8 posições e, em seguida\n",
        "lê dois valores x e y quaisquer correspondentes a\n",
        "duas posições no vetor. O programa então imprime a soma\n",
        "dos valores encontrados nas respectivas posições x e y\n",
        "'''\n",
        "vetor = [0]*8\n",
        "for i in range(8):\n",
        "    vetor[i] = int(input(f\"Digite o valor para a posição {i}: \"))\n",
        "\n",
        "x = int(input(\"Digite o valor de x (0-7): \"))\n",
        "y = int(input(\"Digite o valor de y (0-7): \"))\n",
        "\n",
        "if 0 <= x < 8 and 0 <= y < 8:\n",
        "    resultado = vetor[x] + vetor[y]\n",
        "    print(f\"A soma dos valores nas posições {x} e {y} é {resultado}\")\n",
        "else:\n",
        "    print(\"Número inválido\")\n"
      ],
      "metadata": {
        "id": "4Mrxk_AYdSli"
      },
      "execution_count": null,
      "outputs": []
    },
    {
      "cell_type": "code",
      "source": [
        "'''\n",
        "Faça um programa em Python que receba do usuário\n",
        "um vetor com 10 posições. Em seguida deveria ser\n",
        "impresso o maior e o menor elemento do vetor\n",
        "'''\n",
        "\n",
        "vetor = []\n",
        "for i in range(10):\n",
        "    elemento = int(input(f\"Digite o elemento {i+1}: \"))\n",
        "    vetor.append(elemento)\n",
        "\n",
        "maior_elemento = max(vetor)\n",
        "menor_elemento = min(vetor)\n",
        "\n",
        "print(f\"O maior elemento do vetor é: {maior_elemento}\")\n",
        "print(f\"O menor elemento do vetor é: {menor_elemento}\")\n"
      ],
      "metadata": {
        "id": "HTrJRDQFkgci"
      },
      "execution_count": null,
      "outputs": []
    }
  ]
}